{
 "cells": [
  {
   "cell_type": "code",
   "execution_count": null,
   "metadata": {
    "id": "kPaj-2shffUf"
   },
   "outputs": [],
   "source": [
    "import pandas as pd\n",
    "\n",
    "# Try colab notebook first, handle exception when working locally using VS Code and support Git\n",
    "try:\n",
    "    dataset = pd.read_csv('/content/weather_prediction_dataset/seattle-weather.csv')\n",
    "except FileNotFoundError:\n",
    "    dataset = pd.read_csv(\"weather_prediction_dataset/seattle-weather.csv\")"
   ]
  },
  {
   "cell_type": "code",
   "execution_count": 8,
   "metadata": {
    "id": "4EnU60Sf5QKd"
   },
   "outputs": [
    {
     "name": "stdout",
     "output_type": "stream",
     "text": [
      "(1456, 6)\n"
     ]
    }
   ],
   "source": [
    "# Your code here. Add more cells if needed\n",
    "dataset = dataset.drop_duplicates()\n",
    "\n",
    "print(dataset.shape)"
   ]
  },
  {
   "cell_type": "code",
   "execution_count": 12,
   "metadata": {
    "id": "K7gvViFvC3DP"
   },
   "outputs": [
    {
     "name": "stdout",
     "output_type": "stream",
     "text": [
      "(1456, 8)\n",
      "31\n"
     ]
    }
   ],
   "source": [
    "# Your code here. Add more cells if needed\n",
    "def getDayInfo(row):\n",
    "    day = row.split(\"/\")[2]\n",
    "    return day\n",
    "\n",
    "dataset[\"day\"] = dataset[\"date\"].apply(lambda row : getDayInfo(row))\n",
    "\n",
    "print(dataset.shape)\n",
    "print(len(dataset['day'].drop_duplicates()))"
   ]
  },
  {
   "cell_type": "code",
   "execution_count": 20,
   "metadata": {
    "id": "EQUpQvZiQjQ2"
   },
   "outputs": [
    {
     "name": "stdout",
     "output_type": "stream",
     "text": [
      "My accuracy: 0.7671232876712328\n"
     ]
    }
   ],
   "source": [
    "# Your code here. Add more cells if needed\n",
    "svm = SVC()\n",
    "svm.fit(X_train, y_train)\n",
    "\n",
    "svm_y_pred = svm.predict(X_test)\n",
    "\n",
    "my_accuracy = accuracy_score(y_test, svm_y_pred)\n",
    "print(\"My accuracy:\", my_accuracy)"
   ]
  },
  {
   "cell_type": "code",
   "execution_count": 21,
   "metadata": {},
   "outputs": [
    {
     "name": "stdout",
     "output_type": "stream",
     "text": [
      "F1 score: [0.         0.         0.864      0.         0.78644068]\n"
     ]
    }
   ],
   "source": [
    "my_f1 = f1_score(y_test, svm_y_pred, average=None)\n",
    "print(\"F1 score:\", my_f1)"
   ]
  },
  {
   "cell_type": "code",
   "execution_count": 25,
   "metadata": {
    "id": "xAXDIXyQW2Qr"
   },
   "outputs": [
    {
     "name": "stdout",
     "output_type": "stream",
     "text": [
      "My accuracy: 0.8424657534246576\n",
      "Whether our model improves:  True\n"
     ]
    }
   ],
   "source": [
    "# Your code here. Add more cells if needed\n",
    "\n",
    "# This section takes about 1 minute to run due to Grid Search\n",
    "\n",
    "svm_param_grid = {\n",
    "    \"C\": [0.001, 0.01, 0.1, 1, 10],\n",
    "    \"kernel\": [\"linear\", \"poly\", \"rbf\", \"sigmoid\"]\n",
    "}\n",
    "\n",
    "svm_grid_search = GridSearchCV(SVC(), param_grid=svm_param_grid, scoring=\"accuracy\")\n",
    "\n",
    "svm_grid_search.fit(X_train, y_train)\n",
    "\n",
    "svm_y_pred_optimal = svm_grid_search.predict(X_test)\n",
    "\n",
    "my_accuracy_optimal = accuracy_score(y_test, svm_y_pred_optimal)\n",
    "\n",
    "print(\"My accuracy:\", my_accuracy_optimal)\n",
    "print(\"Whether our model improves: \", (my_accuracy_optimal - my_accuracy) > 0)"
   ]
  }
 ],
 "metadata": {
  "accelerator": "GPU",
  "colab": {
   "gpuType": "T4",
   "provenance": [
    {
     "file_id": "1BgETvU4qgBXY2AB3LA8gvsNXoz1sqZdN",
     "timestamp": 1715111336908
    }
   ]
  },
  "kernelspec": {
   "display_name": "Python 3",
   "name": "python3"
  },
  "language_info": {
   "codemirror_mode": {
    "name": "ipython",
    "version": 3
   },
   "file_extension": ".py",
   "mimetype": "text/x-python",
   "name": "python",
   "nbconvert_exporter": "python",
   "pygments_lexer": "ipython3",
   "version": "3.12.8"
  }
 },
 "nbformat": 4,
 "nbformat_minor": 0
}
